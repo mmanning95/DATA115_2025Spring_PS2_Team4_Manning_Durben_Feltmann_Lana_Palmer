{
 "cells": [
  {
   "cell_type": "markdown",
   "metadata": {
    "tags": []
   },
   "source": [
    "<h2> DATA 115: Introduction to Data Analytics. Fall 2024 </h2>\n",
    "<h3> Problem Set 2 </h3>\n",
    "<h3> Team <i> (Insert your group number here) </i></h3>\n",
    "<h3> Type students' names <i> (only those who contributed to the group work)</i> here</h3>"
   ]
  },
  {
   "cell_type": "markdown",
   "metadata": {},
   "source": [
    "#### 1. In your own words, provide a definition or a short description for each of the following terms (and explain how they are different for the pairs of items):\n",
    "\n",
    "##### (a) Bar chart vs Histogram\n",
    "\n",
    "##### (b) Mean vs Median\n",
    "\n",
    "##### (c) Pearson correlation vs Spearman's rank correlation"
   ]
  },
  {
   "cell_type": "markdown",
   "metadata": {
    "jp-MarkdownHeadingCollapsed": true,
    "tags": []
   },
   "source": [
    "#### 2. Load the data in `GME_Stock` as a dataframe in Python. \n",
    "\n",
    "##### (a) Plot the values in the closing prices column as a line plot.\n",
    "\n",
    "##### (b) Make a scatterplot of opening prices vs. closing prices.\n",
    "\n",
    "##### (c) Add a new column to your dataframe whose rows represent the change in price during each day and make a histogram of these values.\n",
    "\n",
    "##### (d) Make a bar chart presenting the in-state tuition data presented in this table:\n",
    "\n",
    "| School | WSU | EWU | UW | UI | CWU |\n",
    "|:-:|:-:|:-:|:-:|:-:|:-:|\n",
    "| **Tuition** | 11841 | 7526 | 11465 | 8304 | 8273 |\n",
    "\n",
    "\n",
    "##### (e) Provide a brief justification for the order you placed the bars from left to right in (d)."
   ]
  },
  {
   "cell_type": "markdown",
   "metadata": {},
   "source": [
    "#### 3. Load the data in `COL` as a dataframe in Python. \n",
    "\n",
    "##### (a) Decide which rows are outliers in this data and describe and justify how you determined their outlier status.\n",
    "\n",
    "##### (b) For each row you identified, if you were performing EDA on this dataset, would you include its values in your analysis and plots? Why or why not?\n",
    "\n",
    "##### (c) Make a scatterplot matrix of the numeric columns.\n",
    "\n",
    "##### (d) Write a brief (no more than three sentences) summary of what you observe in the plot in (c).\n",
    "\n",
    "##### (e) Choose a single subplot that seems most interesting to you and make a separate scatterplot of just those two columns with the points colored by the salary value.\n",
    "\n",
    "##### (f) Write a brief (no more than two sentences) summary of what you observe in the plot in (e)."
   ]
  },
  {
   "cell_type": "markdown",
   "metadata": {
    "jp-MarkdownHeadingCollapsed": true,
    "tags": []
   },
   "source": [
    "#### 4. Load the data in `Height_Weight_Age_Sex` as a dataframe in Python.\n",
    "\n",
    "##### (a) Create boxplots for the height and weight columns separately. Comment on the symmetry and skewness, if any, for their distributions using these plots.\n",
    "\n",
    "##### (b) Create histograms for the height and weight columns separately. Comment on the symmetry and skewness, if any, for their distributions using these plots. Are your conclusions based on the boxplots consistent with those based on densities? \n",
    "\n",
    "##### (c) Create separate boxplots for the weight data separated by the male variable. What do you observe about the two distributions?\n",
    "\n",
    "##### (d) Define variable `BMI`, applying the [formula for metric system](https://www.thecalculatorsite.com/articles/health/bmi-formula-for-bmi-calculations.php): $BMI = Weight / (\\frac{Height}{100})^2$. Create a binary indicator variable `Underweight` that takes value \"1\" for individuals with BMI < 18.5 and value \"0\" otherwise. Add both of these variables as a columns to the dataframe.\n",
    "\n",
    "##### (e) Create separate histograms for the BMI column separated by the male variable. What do you observe about the two distributions? \n",
    "\n",
    "##### (f) Make a scatterplot of height vs. weight for the full dataset that distinguishes both the male variable and the underweight variable. What do you observe?\n"
   ]
  },
  {
   "cell_type": "markdown",
   "metadata": {},
   "source": [
    "#### 5. Read the following examples about Simpson’s Paradox: [How to lie with statistics?](https://people.eecs.berkeley.edu/%7Edaw/teaching/cs70-s08/notes/n21.pdf). Fill in the following table with ratios of hits to attempts so that player A has a higher batting average in both season 1 and season 2 but player B has a higher overall batting average for the two seasons combined.\n",
    "\n",
    "| hits/attempts | Season 1 | Season 2 | \n",
    "|:-:|:-:|:-:|\n",
    "| **Player A** | 25 / 100 | ? / ? | \n",
    "| **Player B** | ? / ?  | ? / ? | "
   ]
  }
 ],
 "metadata": {
  "kernelspec": {
   "display_name": "Python 3 (ipykernel)",
   "language": "python",
   "name": "python3"
  },
  "language_info": {
   "codemirror_mode": {
    "name": "ipython",
    "version": 3
   },
   "file_extension": ".py",
   "mimetype": "text/x-python",
   "name": "python",
   "nbconvert_exporter": "python",
   "pygments_lexer": "ipython3",
   "version": "3.11.5"
  }
 },
 "nbformat": 4,
 "nbformat_minor": 4
}
